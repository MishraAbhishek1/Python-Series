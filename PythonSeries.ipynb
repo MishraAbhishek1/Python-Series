{
  "nbformat": 4,
  "nbformat_minor": 0,
  "metadata": {
    "colab": {
      "provenance": [],
      "authorship_tag": "ABX9TyMWXeKPRjuXpeBNz1sMES1w",
      "include_colab_link": true
    },
    "kernelspec": {
      "name": "python3",
      "display_name": "Python 3"
    },
    "language_info": {
      "name": "python"
    }
  },
  "cells": [
    {
      "cell_type": "markdown",
      "metadata": {
        "id": "view-in-github",
        "colab_type": "text"
      },
      "source": [
        "<a href=\"https://colab.research.google.com/github/MishraAbhishek1/Python-Series/blob/main/PythonSeries.ipynb\" target=\"_parent\"><img src=\"https://colab.research.google.com/assets/colab-badge.svg\" alt=\"Open In Colab\"/></a>"
      ]
    },
    {
      "cell_type": "markdown",
      "source": [
        "🔹 1. Variables and Data Types (5 Programs)"
      ],
      "metadata": {
        "id": "wZgiYy5qdqq6"
      }
    },
    {
      "cell_type": "code",
      "source": [
        "# 1. Store daily expenses\n",
        "food = 150\n",
        "transport = 50\n",
        "shopping = 200\n",
        "print(f\"Total expenses: {food + transport + shopping}\")"
      ],
      "metadata": {
        "colab": {
          "base_uri": "https://localhost:8080/"
        },
        "id": "wEOCpT2LdpQM",
        "outputId": "f9f56e34-aec8-42ac-f4f3-09e3c582ddad"
      },
      "execution_count": null,
      "outputs": [
        {
          "output_type": "stream",
          "name": "stdout",
          "text": [
            "Total expenses: 400\n"
          ]
        }
      ]
    },
    {
      "cell_type": "code",
      "source": [
        "# 2. Temperature conversion (Celsius to Fahrenheit)\n",
        "celsius = 25\n",
        "fahrenheit = (celsius * 9/5) + 32\n",
        "print(f\"Fahrenheit: {fahrenheit}\")"
      ],
      "metadata": {
        "colab": {
          "base_uri": "https://localhost:8080/"
        },
        "id": "3gB7k0koeWUZ",
        "outputId": "64c8383b-8931-4962-d4c7-12e0d4417fa6"
      },
      "execution_count": null,
      "outputs": [
        {
          "output_type": "stream",
          "name": "stdout",
          "text": [
            "Fahrenheit: 77.0\n"
          ]
        }
      ]
    },
    {
      "cell_type": "code",
      "source": [
        "# 3. Student info\n",
        "name = \"jhon\"\n",
        "age = 20\n",
        "cgpa = 8.4\n",
        "print(f\"Name: {name}, Age: {age}, Cgpa: {cgpa}\")"
      ],
      "metadata": {
        "colab": {
          "base_uri": "https://localhost:8080/"
        },
        "id": "VoGRt8fYe9db",
        "outputId": "adcf671c-f738-4f07-f7bd-1534e719855f"
      },
      "execution_count": null,
      "outputs": [
        {
          "output_type": "stream",
          "name": "stdout",
          "text": [
            "Name: jhon, Age: 20, Cgpa: 8.4\n"
          ]
        }
      ]
    },
    {
      "cell_type": "code",
      "source": [
        "# 4. Checking data types\n",
        "salary = 35000\n",
        "print(f\"Salary Type: {type(salary)}\")\n",
        "print(f\"Name Type: {type(name)}\")"
      ],
      "metadata": {
        "colab": {
          "base_uri": "https://localhost:8080/"
        },
        "id": "OYiMmlDgfRps",
        "outputId": "f70b0a2a-967f-4736-f575-bf96267cdce9"
      },
      "execution_count": null,
      "outputs": [
        {
          "output_type": "stream",
          "name": "stdout",
          "text": [
            "Salary Type: <class 'int'>\n",
            "Name Type: <class 'str'>\n"
          ]
        }
      ]
    },
    {
      "cell_type": "code",
      "source": [
        "# 5. Simple interest calculator\n",
        "p = 1000\n",
        "r = 5\n",
        "t = 2\n",
        "si = (p * r * t)/100\n",
        "print(\"Simple Interest:\", si)"
      ],
      "metadata": {
        "colab": {
          "base_uri": "https://localhost:8080/"
        },
        "id": "FHYmIU_SfpPS",
        "outputId": "e70a05c5-e340-4c89-f6ba-4a47401058f2"
      },
      "execution_count": null,
      "outputs": [
        {
          "output_type": "stream",
          "name": "stdout",
          "text": [
            "Simple Interest: 100.0\n"
          ]
        }
      ]
    },
    {
      "cell_type": "markdown",
      "source": [
        "🔹 2. Operators (5 Programs)"
      ],
      "metadata": {
        "id": "RXx-1jK9gPsp"
      }
    },
    {
      "cell_type": "code",
      "source": [
        "# 1. Compare discounts\n",
        "amazon = 1200\n",
        "flipkart = 1100\n",
        "print(f\"Amazon is Cheaper?: {flipkart > amazon}\")\n",
        "\n",
        "# 2. Logical operator\n",
        "age = 20\n",
        "has_id = True\n",
        "print(\"Eligible for voting?\", age >= 18 and has_id )\n",
        "\n",
        "# 3. Arithmetic operator\n",
        "a, b = 15, 4\n",
        "print(f\"Sum: {a+b}, Division: {a/b}, Power: {a**b}\")\n",
        "\n",
        "# 4. Modulus (find remainder)\n",
        "chocolates = 25\n",
        "friends = 4\n",
        "print(f\"Leftover chocolates: {chocolates % friends}\")\n",
        "\n",
        "# 4. Modulus (find remainder)\n",
        "x = 10\n",
        "x += 5\n",
        "x *= 2\n",
        "print(f\"Final Value: {x}\")\n"
      ],
      "metadata": {
        "colab": {
          "base_uri": "https://localhost:8080/"
        },
        "id": "1F2v8Ov1gCLK",
        "outputId": "4eda3ecd-2871-45d4-9a57-9c464fb3c828"
      },
      "execution_count": null,
      "outputs": [
        {
          "output_type": "stream",
          "name": "stdout",
          "text": [
            "Amazon is Cheaper?: False\n",
            "Eligible for voting? True\n",
            "Sum: 19, Division: 3.75, Power: 50625\n",
            "Leftover chocolates: 1\n",
            "Final Value: 30\n"
          ]
        }
      ]
    },
    {
      "cell_type": "markdown",
      "source": [
        "🔹 3. Conditional Statements (5 Programs)"
      ],
      "metadata": {
        "id": "i4XhhOxvken0"
      }
    },
    {
      "cell_type": "code",
      "source": [
        "# 1. Ticket price\n",
        "age = 16\n",
        "if age >= 18:\n",
        "  print(\"Ticket Price: 150 INR\")\n",
        "else:\n",
        "  print(\"Ticket Price: 200 INR\")\n"
      ],
      "metadata": {
        "colab": {
          "base_uri": "https://localhost:8080/"
        },
        "id": "WNnNQn5akhbr",
        "outputId": "1a8e17ad-7b1f-4f25-b95c-9d196e050414"
      },
      "execution_count": null,
      "outputs": [
        {
          "output_type": "stream",
          "name": "stdout",
          "text": [
            "Ticket Price: 200 INR\n"
          ]
        }
      ]
    },
    {
      "cell_type": "code",
      "source": [
        "# 2. Grade system\n",
        "marks = 82\n",
        "if marks >= 90:\n",
        "  print(\"Grade A\")\n",
        "elif marks >= 75:\n",
        "  print(\"Grade B\")\n",
        "else:\n",
        "  print(\"Grade C\")\n",
        "\n"
      ],
      "metadata": {
        "colab": {
          "base_uri": "https://localhost:8080/"
        },
        "id": "6Otf4Ab9lKGj",
        "outputId": "1873a9bb-6566-470f-cbb7-97b6aec60f37"
      },
      "execution_count": null,
      "outputs": [
        {
          "output_type": "stream",
          "name": "stdout",
          "text": [
            "Grade B\n"
          ]
        }
      ]
    },
    {
      "cell_type": "code",
      "source": [
        "# 3. Odd or Even\n",
        "num = 7\n",
        "if num % 2 == 0:\n",
        "  print(\"Even\")\n",
        "else:\n",
        "  print(\"Odd\")"
      ],
      "metadata": {
        "colab": {
          "base_uri": "https://localhost:8080/"
        },
        "id": "-WFYfAMMoR1D",
        "outputId": "58a880aa-8dfb-4d68-8803-bc87077c3fb8"
      },
      "execution_count": null,
      "outputs": [
        {
          "output_type": "stream",
          "name": "stdout",
          "text": [
            "Odd\n"
          ]
        }
      ]
    },
    {
      "cell_type": "code",
      "source": [
        "# 4. Max of three numbers\n",
        "a, b, c = 10, 20, 30\n",
        "if a > b and a > c:\n",
        "  print(\"Max:\", a)\n",
        "elif b > c:\n",
        "  print(\"Max:\", b)\n",
        "else:\n",
        "  print(\"Max:\", c)"
      ],
      "metadata": {
        "colab": {
          "base_uri": "https://localhost:8080/"
        },
        "id": "xGzJH3mIoiqr",
        "outputId": "70bf9005-5143-4e44-d22b-699518830446"
      },
      "execution_count": null,
      "outputs": [
        {
          "output_type": "stream",
          "name": "stdout",
          "text": [
            "Max: 30\n"
          ]
        }
      ]
    },
    {
      "cell_type": "code",
      "source": [
        "# 5. ATM withdrawal\n",
        "balance = 5000\n",
        "withdraw = 2000\n",
        "if withdraw <= balance:\n",
        "  balance -= withdraw\n",
        "  print(f\"Remaining Balance: {balance}\")\n",
        "else:\n",
        "  print(\"Insufficient balance!\")\n",
        "\n"
      ],
      "metadata": {
        "colab": {
          "base_uri": "https://localhost:8080/"
        },
        "id": "9zuJGo-9pGsz",
        "outputId": "bee45de1-fe12-41ea-c8d4-2193b5c4c942"
      },
      "execution_count": null,
      "outputs": [
        {
          "output_type": "stream",
          "name": "stdout",
          "text": [
            "Remaining Balance: 3000\n"
          ]
        }
      ]
    },
    {
      "cell_type": "markdown",
      "source": [
        "🔹 4. Loops (5 Programs)"
      ],
      "metadata": {
        "id": "s1i3yRX6qn8E"
      }
    },
    {
      "cell_type": "code",
      "source": [
        "# 1. Print 1 to 10\n",
        "for i in range(1, 11):\n",
        "  print(i)"
      ],
      "metadata": {
        "colab": {
          "base_uri": "https://localhost:8080/"
        },
        "id": "sOKtbNsXqtoT",
        "outputId": "fe13ae8a-3020-4876-d1aa-f2048e62b034"
      },
      "execution_count": null,
      "outputs": [
        {
          "output_type": "stream",
          "name": "stdout",
          "text": [
            "1\n",
            "2\n",
            "3\n",
            "4\n",
            "5\n",
            "6\n",
            "7\n",
            "8\n",
            "9\n",
            "10\n"
          ]
        }
      ]
    },
    {
      "cell_type": "code",
      "source": [
        "# 2. Sum of first 10 numbers\n",
        "total = 0\n",
        "for i in range(1, 11):\n",
        "  total += i\n",
        "print(\"sum:\", total)"
      ],
      "metadata": {
        "colab": {
          "base_uri": "https://localhost:8080/"
        },
        "id": "Y9irUV1Yq5qj",
        "outputId": "d893f3c2-101e-4bb6-f7ba-d79df4351520"
      },
      "execution_count": null,
      "outputs": [
        {
          "output_type": "stream",
          "name": "stdout",
          "text": [
            "sum: 55\n"
          ]
        }
      ]
    },
    {
      "cell_type": "code",
      "source": [
        "# 3. Multiplication table\n",
        "num = 5\n",
        "for i in range(1, 11):\n",
        "  print(num, \"x\", i, \"=\", num*i)"
      ],
      "metadata": {
        "colab": {
          "base_uri": "https://localhost:8080/"
        },
        "id": "V2UzGoz9rTU7",
        "outputId": "aa253cce-eae8-4cda-fede-dda78cc9847d"
      },
      "execution_count": null,
      "outputs": [
        {
          "output_type": "stream",
          "name": "stdout",
          "text": [
            "5 x 1 = 5\n",
            "5 x 2 = 10\n",
            "5 x 3 = 15\n",
            "5 x 4 = 20\n",
            "5 x 5 = 25\n",
            "5 x 6 = 30\n",
            "5 x 7 = 35\n",
            "5 x 8 = 40\n",
            "5 x 9 = 45\n",
            "5 x 10 = 50\n"
          ]
        }
      ]
    },
    {
      "cell_type": "code",
      "source": [
        "# 4. Countdown\n",
        "n = 5\n",
        "while n > 0:\n",
        "  print(n)\n",
        "  n -= 1"
      ],
      "metadata": {
        "colab": {
          "base_uri": "https://localhost:8080/"
        },
        "id": "h9aMT_jz4ch4",
        "outputId": "6743abf2-0894-43cb-f1e1-89686e6231dd"
      },
      "execution_count": null,
      "outputs": [
        {
          "output_type": "stream",
          "name": "stdout",
          "text": [
            "5\n",
            "4\n",
            "3\n",
            "2\n",
            "1\n"
          ]
        }
      ]
    },
    {
      "cell_type": "code",
      "source": [
        "# 5. Factorial\n",
        "n = 5\n",
        "fact = 1\n",
        "for i in range(1, n+1):\n",
        "  fact *= i\n",
        "print(f'Factorial:', fact)"
      ],
      "metadata": {
        "colab": {
          "base_uri": "https://localhost:8080/"
        },
        "id": "9m-9GsVR5ISB",
        "outputId": "3b954723-1d8f-4991-8424-0e123da0b46d"
      },
      "execution_count": null,
      "outputs": [
        {
          "output_type": "stream",
          "name": "stdout",
          "text": [
            "Factorial: 120\n"
          ]
        }
      ]
    },
    {
      "cell_type": "markdown",
      "source": [
        "🔹 5. Functions (5 Programs)"
      ],
      "metadata": {
        "id": "kJYdeE6u52UW"
      }
    },
    {
      "cell_type": "code",
      "source": [
        "# 1. Greet user\n",
        "def greet(name):\n",
        "  print(\"Hello\", name)\n",
        "greet(\"Abhihsek\")"
      ],
      "metadata": {
        "colab": {
          "base_uri": "https://localhost:8080/"
        },
        "id": "t3Mbsi0Z5vah",
        "outputId": "527c536d-3528-49e4-ff6f-786aebbda7f5"
      },
      "execution_count": null,
      "outputs": [
        {
          "output_type": "stream",
          "name": "stdout",
          "text": [
            "Hello Abhihsek\n"
          ]
        }
      ]
    },
    {
      "cell_type": "code",
      "source": [
        "# 2. Square of a number\n",
        "def square(n):\n",
        "  return n*n\n",
        "\n",
        "print(\"Square:\", square(5))"
      ],
      "metadata": {
        "colab": {
          "base_uri": "https://localhost:8080/"
        },
        "id": "z85LV6n26VX4",
        "outputId": "cfe902f0-d313-467a-977b-799bae0890cd"
      },
      "execution_count": null,
      "outputs": [
        {
          "output_type": "stream",
          "name": "stdout",
          "text": [
            "Square: 25\n"
          ]
        }
      ]
    },
    {
      "cell_type": "code",
      "source": [
        "# 3. Check prime number\n",
        "def is_prime(n):\n",
        "  if n < 2:\n",
        "    return False\n",
        "  for i in range(2, int(n**0.5)+1):\n",
        "    if n % i == 0:\n",
        "      return False\n",
        "  return True\n",
        "\n",
        "print(\"Is 17 prime?\", is_prime(17))\n"
      ],
      "metadata": {
        "colab": {
          "base_uri": "https://localhost:8080/"
        },
        "id": "KNEb90BO8ATB",
        "outputId": "543dc65f-7407-4a36-c549-078a02f74be0"
      },
      "execution_count": null,
      "outputs": [
        {
          "output_type": "stream",
          "name": "stdout",
          "text": [
            "Is 17 prime? True\n"
          ]
        }
      ]
    },
    {
      "cell_type": "code",
      "source": [
        "# 4. Add two numbers\n",
        "def add(a, b):\n",
        "  return a+b\n",
        "\n",
        "print(\"Sum:\", add(10, 20))"
      ],
      "metadata": {
        "colab": {
          "base_uri": "https://localhost:8080/"
        },
        "id": "mntR8-NqAeaz",
        "outputId": "cef13c52-4f28-45d2-f7d3-4359114e74f1"
      },
      "execution_count": null,
      "outputs": [
        {
          "output_type": "stream",
          "name": "stdout",
          "text": [
            "Sum: 30\n"
          ]
        }
      ]
    },
    {
      "cell_type": "code",
      "source": [
        "# 5. BMI calculator\n",
        "def bmi(weight, height):\n",
        "  return weight / (height**2)\n",
        "print(\"BMI:\", bmi(60, 1.7))"
      ],
      "metadata": {
        "colab": {
          "base_uri": "https://localhost:8080/"
        },
        "id": "0Nst44FxA8L3",
        "outputId": "6f17b902-505d-420b-9447-825795939530"
      },
      "execution_count": null,
      "outputs": [
        {
          "output_type": "stream",
          "name": "stdout",
          "text": [
            "BMI: 20.761245674740486\n"
          ]
        }
      ]
    },
    {
      "cell_type": "markdown",
      "source": [
        "🎯 Basic Pattern Programs (Easy Level - Level 1)"
      ],
      "metadata": {
        "id": "sSQ8Yppius6q"
      }
    },
    {
      "cell_type": "markdown",
      "source": [
        "1️⃣ Pattern 1 – Square of Stars# New Section"
      ],
      "metadata": {
        "id": "aTXjzYkr3QTi"
      }
    },
    {
      "cell_type": "code",
      "source": [
        "#outer loop run for a row\n",
        "for i in range(6):\n",
        "  for j in range(6):\n",
        "    print(\"*\", end=' ')\n",
        "  print()"
      ],
      "metadata": {
        "colab": {
          "base_uri": "https://localhost:8080/"
        },
        "id": "V4R1G5mQ3Tpu",
        "outputId": "3b5bc454-283d-4c36-d49b-4fd8c8f5b8e7"
      },
      "execution_count": null,
      "outputs": [
        {
          "output_type": "stream",
          "name": "stdout",
          "text": [
            "* * * * * * \n",
            "* * * * * * \n",
            "* * * * * * \n",
            "* * * * * * \n",
            "* * * * * * \n",
            "* * * * * * \n"
          ]
        }
      ]
    },
    {
      "cell_type": "code",
      "source": [
        "for i in range(1, 6):\n",
        "    for j in range(i):\n",
        "         print(\"*\", end=\"\")\n",
        "    print()\n"
      ],
      "metadata": {
        "colab": {
          "base_uri": "https://localhost:8080/"
        },
        "id": "8xl6JEnE7FZq",
        "outputId": "44ab59c8-ec93-436e-c009-b0fbe1734d3c"
      },
      "execution_count": null,
      "outputs": [
        {
          "output_type": "stream",
          "name": "stdout",
          "text": [
            "*\n",
            "**\n",
            "***\n",
            "****\n",
            "*****\n"
          ]
        }
      ]
    },
    {
      "cell_type": "code",
      "source": [
        "for i in range(1, 6):\n",
        "    for j in range(1, i+1):\n",
        "        print(j, end=\"\")\n",
        "    print()\n"
      ],
      "metadata": {
        "colab": {
          "base_uri": "https://localhost:8080/"
        },
        "id": "g0RVWW0g7YUH",
        "outputId": "da61ecab-3ac5-4093-abdc-d8d381e63d54"
      },
      "execution_count": null,
      "outputs": [
        {
          "output_type": "stream",
          "name": "stdout",
          "text": [
            "1\n",
            "12\n",
            "123\n",
            "1234\n",
            "12345\n"
          ]
        }
      ]
    },
    {
      "cell_type": "code",
      "source": [
        "for i in range(1, 6):\n",
        "    for j in range(i):\n",
        "         print(i, end=\"\")\n",
        "    print()\n"
      ],
      "metadata": {
        "colab": {
          "base_uri": "https://localhost:8080/"
        },
        "id": "Cdf1HVU67ibz",
        "outputId": "ca91f760-1274-4dfe-c517-d72cc48d1c84"
      },
      "execution_count": null,
      "outputs": [
        {
          "output_type": "stream",
          "name": "stdout",
          "text": [
            "1\n",
            "22\n",
            "333\n",
            "4444\n",
            "55555\n"
          ]
        }
      ]
    },
    {
      "cell_type": "code",
      "source": [
        "# right angled pattern\n",
        "for i in range(6):\n",
        "  for j in range(i):\n",
        "    print(\"*\", end=\" \")\n",
        "  print()\n"
      ],
      "metadata": {
        "colab": {
          "base_uri": "https://localhost:8080/"
        },
        "id": "vmxhc0SQE0F7",
        "outputId": "cf354b9e-5a1f-448f-d71f-2f9942bf7f21"
      },
      "execution_count": 3,
      "outputs": [
        {
          "output_type": "stream",
          "name": "stdout",
          "text": [
            "\n",
            "* \n",
            "* * \n",
            "* * * \n",
            "* * * * \n",
            "* * * * * \n"
          ]
        }
      ]
    },
    {
      "cell_type": "code",
      "source": [],
      "metadata": {
        "id": "viI6eIEHLYv1"
      },
      "execution_count": null,
      "outputs": []
    },
    {
      "cell_type": "code",
      "source": [
        "# Right angled number pattern\n",
        "for i in range(1,6):\n",
        "\n",
        "  for j in range(1, i+1):\n",
        "    print(j, end=\" \")\n",
        "  print()"
      ],
      "metadata": {
        "colab": {
          "base_uri": "https://localhost:8080/"
        },
        "id": "fp4SCGhDNaU7",
        "outputId": "6f1055e5-9167-4702-db31-20bee6a3cb99"
      },
      "execution_count": 6,
      "outputs": [
        {
          "output_type": "stream",
          "name": "stdout",
          "text": [
            "1 \n",
            "1 2 \n",
            "1 2 3 \n",
            "1 2 3 4 \n",
            "1 2 3 4 5 \n"
          ]
        }
      ]
    }
  ]
}